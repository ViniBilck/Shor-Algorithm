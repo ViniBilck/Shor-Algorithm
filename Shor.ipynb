{
 "cells": [
  {
   "cell_type": "markdown",
   "id": "364de0d9-3611-4cdb-b97f-c97f3019e34f",
   "metadata": {},
   "source": [
    "# Shor-Algorithm \n",
    "* Nesse Notebook ainda falta fazer a implementação da Phase-estimation"
   ]
  },
  {
   "cell_type": "code",
   "execution_count": 48,
   "id": "bc99b120-03aa-48f8-94e0-b1166a0c1578",
   "metadata": {},
   "outputs": [
    {
     "name": "stdout",
     "output_type": "stream",
     "text": [
      "N: 208 = 16 * 13 (quantum)\n"
     ]
    }
   ],
   "source": [
    "from math import gcd, pi\n",
    "from random import randint\n",
    "from functools import reduce\n",
    "from ket import H, PHASE, SWAP, Process, X, adj, measure, ctrl\n",
    "\n",
    "class Shor:\n",
    "    def __init__(self, number_to_be_factored):\n",
    "        self.number_to_be_factored = number_to_be_factored\n",
    "        self.factored = self.shor(self.number_to_be_factored)\n",
    "\n",
    "    def inverse_qft(self, qubits):\n",
    "        n = len(qubits)\n",
    "        if len(qubits) != 1:\n",
    "            for i in range(n // 2):\n",
    "                SWAP(qubits[i], qubits[n - i - 1])\n",
    "            for i in range(n):\n",
    "                H(qubits[i])\n",
    "                for j in range(i + 1, n):\n",
    "                    angle = -pi / (2 ** (j - i))\n",
    "                    ctrl(qubits[j], PHASE(angle))(qubits[i])\n",
    "        else:\n",
    "            H(qubits)\n",
    "\n",
    "    def modular_exponentiation(self, base, exponent, modulus):\n",
    "        return pow(base, exponent, modulus)\n",
    "\n",
    "    def u_exp(self, control_qubit, target_qubits, a, modulus, exponent):\n",
    "        def U():\n",
    "            result = self.modular_exponentiation(a, exponent, modulus)\n",
    "            for i in range(len(target_qubits)):\n",
    "                if (result >> i) & 1:\n",
    "                    X(target_qubits[i])\n",
    "        \n",
    "        ctrl(control_qubit, U)()\n",
    "\n",
    "    def quantum_subroutine(self, qbits_number, base, modulus):\n",
    "        process = Process()\n",
    "        control_qubits = process.alloc(qbits_number)\n",
    "        target_qubits = process.alloc(modulus.bit_length())\n",
    "\n",
    "        for qubit in control_qubits:\n",
    "            H(qubit)\n",
    "\n",
    "        for i, qubit in enumerate(control_qubits):\n",
    "            self.u_exp(qubit, target_qubits, base, modulus, 2**i)\n",
    "\n",
    "        adj(self.inverse_qft)(control_qubits)\n",
    "        return measure(control_qubits).value\n",
    "\n",
    "    def shor(self, factor_number):\n",
    "        number_of_qbits = factor_number.bit_length()\n",
    "\n",
    "        for _ in range(number_of_qbits):\n",
    "            x = randint(2, factor_number - 1)\n",
    "            rr = reduce(gcd, [self.quantum_subroutine(number_of_qbits, x, factor_number) for _ in range(number_of_qbits)])\n",
    "            try:\n",
    "                r = 2 ** number_of_qbits // rr\n",
    "                if r % 2 == 0:\n",
    "                    x_r_over_2 = pow(x, r // 2, factor_number)\n",
    "                    if x_r_over_2 != factor_number - 1:\n",
    "                        p = gcd(x_r_over_2 - 1, factor_number)\n",
    "                        if p != 1 and p != factor_number:\n",
    "                            return p, 'quantum'\n",
    "\n",
    "                        q = gcd(x_r_over_2 + 1, factor_number)\n",
    "                        if q != 1 and q != factor_number:\n",
    "                            return q, 'quantum'\n",
    "            except:\n",
    "                continue\n",
    "\n",
    "        return factor_number, 'prime or fail'\n",
    "\n",
    "if __name__ == \"__main__\":\n",
    "    N = 208\n",
    "    shor = Shor(N)\n",
    "    factor, message = shor.factored\n",
    "    print(f'N: {N:2} = {factor:2} * {N // factor:2} ({message})')\n"
   ]
  },
  {
   "cell_type": "code",
   "execution_count": 35,
   "id": "e7dca83f-ba5e-4e50-84be-cf4847434fae",
   "metadata": {},
   "outputs": [
    {
     "name": "stdout",
     "output_type": "stream",
     "text": [
      "N: 20 =  2 * 10 (quantum)\n"
     ]
    }
   ],
   "source": [
    "N=20\n",
    "shor = Shor(N)\n",
    "factor, message = shor.factored\n",
    "print(f'N: {N:2} = {factor:2} * {N // factor:2} ({message})')"
   ]
  },
  {
   "cell_type": "code",
   "execution_count": null,
   "id": "c175b822-b66e-4360-b798-dab15535f965",
   "metadata": {},
   "outputs": [],
   "source": []
  }
 ],
 "metadata": {
  "kernelspec": {
   "display_name": "Python 3 (ipykernel)",
   "language": "python",
   "name": "python3"
  },
  "language_info": {
   "codemirror_mode": {
    "name": "ipython",
    "version": 3
   },
   "file_extension": ".py",
   "mimetype": "text/x-python",
   "name": "python",
   "nbconvert_exporter": "python",
   "pygments_lexer": "ipython3",
   "version": "3.12.3"
  }
 },
 "nbformat": 4,
 "nbformat_minor": 5
}
